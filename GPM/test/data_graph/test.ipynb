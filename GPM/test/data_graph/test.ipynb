{
 "cells": [
  {
   "cell_type": "code",
   "execution_count": 24,
   "metadata": {},
   "outputs": [],
   "source": [
    "#把测试图的label统一成0\n",
    "path = '/home/sr/GPM/GPMalgorithms/CECI/SubgraphMatching/test/data_graph/HPRD.graph'\n",
    "infile = open(path).read().splitlines()\n",
    "for i, _ in enumerate(infile):\n",
    "    infile[i] = infile[i].split(' ')\n",
    "\n",
    "outfile = infile\n",
    "del infile\n",
    "for i in range(int(outfile[0][1])):\n",
    "    outfile[i+1][2] = '1'\n",
    "\n",
    "for i, _ in enumerate(outfile):\n",
    "    outfile[i] = \" \".join(outfile[i]) + '\\n'\n",
    "\n",
    "outfile = ''.join(outfile)\n",
    "\n",
    "f = open('/home/sr/GPM/GPMalgorithms/CECI/SubgraphMatching/test/data_graph/HPRD_no_label.graph', 'w')\n",
    "f.write(outfile)\n",
    "f.close()"
   ]
  },
  {
   "cell_type": "code",
   "execution_count": 25,
   "metadata": {},
   "outputs": [],
   "source": [
    "#把查询图的label统一成0\n",
    "path = '/home/sr/GPM/GPMalgorithms/CECI/SubgraphMatching/test/query_graph/query_dense_16_1.graph'\n",
    "infile = open(path).read().splitlines()\n",
    "for i, _ in enumerate(infile):\n",
    "    infile[i] = infile[i].split(' ')\n",
    "\n",
    "outfile = infile\n",
    "del infile\n",
    "for i in range(int(outfile[0][1])):\n",
    "    outfile[i+1][2] = '1'\n",
    "\n",
    "for i, _ in enumerate(outfile):\n",
    "    outfile[i] = \" \".join(outfile[i]) + '\\n'\n",
    "\n",
    "outfile = ''.join(outfile)\n",
    "\n",
    "f = open('/home/sr/GPM/GPMalgorithms/CECI/SubgraphMatching/test/query_graph/query_dense_16_1_1.graph', 'w')\n",
    "f.write(outfile)\n",
    "f.close()"
   ]
  },
  {
   "cell_type": "code",
   "execution_count": 3,
   "metadata": {},
   "outputs": [
    {
     "data": {
      "text/plain": [
       "[1400123, 1571525]"
      ]
     },
     "execution_count": 3,
     "metadata": {},
     "output_type": "execute_result"
    }
   ],
   "source": [
    "#统计1 2 的数量\n",
    "path = '/home/sr/GPM/GPMalgorithms/CECI/SubgraphMatching/build/matching/out.log'\n",
    "infile = open(path).read().splitlines()\n",
    "\n",
    "total = [0, 0]\n",
    "for i in infile:\n",
    "    total[int(i)-1] += 1;\n",
    "\n",
    "total"
   ]
  },
  {
   "cell_type": "code",
   "execution_count": 6,
   "metadata": {},
   "outputs": [
    {
     "data": {
      "text/plain": [
       "(26.341473270984874, 44.941230804756955, 1.0536889504676135, 17322)"
      ]
     },
     "execution_count": 6,
     "metadata": {},
     "output_type": "execute_result"
    }
   ],
   "source": [
    "#统计l r 的数量\n",
    "path = '/home/sr/GPM/GPMalgorithms/CECI/SubgraphMatching/build/matching/out.log'\n",
    "infile = open(path).read().splitlines()\n",
    "\n",
    "for i, _ in enumerate(infile):\n",
    "    infile[i] = infile[i].split(' ')\n",
    "\n",
    "total = [0, 0, 0]\n",
    "for i in infile:\n",
    "    total[0] += int(i[0]);#l\n",
    "    total[1] += int(i[1]);#r\n",
    "    total[2] += int(i[2]);#r\n",
    "\n",
    "total[0]/infile.__len__(), total[1]/infile.__len__(), total[2]/infile.__len__(), infile.__len__()"
   ]
  }
 ],
 "metadata": {
  "interpreter": {
   "hash": "31f2aee4e71d21fbe5cf8b01ff0e069b9275f58929596ceb00d14d90e3e16cd6"
  },
  "kernelspec": {
   "display_name": "Python 3.8.5 64-bit",
   "language": "python",
   "name": "python3"
  },
  "language_info": {
   "codemirror_mode": {
    "name": "ipython",
    "version": 3
   },
   "file_extension": ".py",
   "mimetype": "text/x-python",
   "name": "python",
   "nbconvert_exporter": "python",
   "pygments_lexer": "ipython3",
   "version": "3.6.9"
  },
  "orig_nbformat": 4
 },
 "nbformat": 4,
 "nbformat_minor": 2
}
